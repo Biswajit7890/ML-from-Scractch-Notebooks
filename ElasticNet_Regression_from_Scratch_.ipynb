{
  "nbformat": 4,
  "nbformat_minor": 0,
  "metadata": {
    "colab": {
      "name": "ElasticNet Regression from Scratch .ipynb",
      "provenance": []
    },
    "kernelspec": {
      "name": "python3",
      "display_name": "Python 3"
    }
  },
  "cells": [
    {
      "cell_type": "code",
      "metadata": {
        "id": "Ofh4O1Abfm2L"
      },
      "source": [
        "import pandas as pd\r\n",
        "import numpy as np\r\n",
        "import matplotlib.pyplot as plt\r\n",
        "from sklearn.model_selection import train_test_split \r\n",
        "import warnings\r\n",
        "warnings.filterwarnings('ignore')"
      ],
      "execution_count": 2,
      "outputs": []
    },
    {
      "cell_type": "code",
      "metadata": {
        "id": "F4PRLPD4fpXs"
      },
      "source": [
        "# Importing libraries \r\n",
        "\r\n",
        "import numpy as np \r\n",
        "\r\n",
        "import pandas as pd \r\n",
        "\r\n",
        "from sklearn.model_selection import train_test_split \r\n",
        "\r\n",
        "import matplotlib.pyplot as plt \r\n",
        "\r\n",
        "# Elastic Net Regression \r\n",
        "\r\n",
        "class ElasticRegression() : \r\n",
        "\t\r\n",
        "\tdef __init__( self, learning_rate, iterations, l1_penality, l2_penality ) : \r\n",
        "\t\t\r\n",
        "\t\tself.learning_rate = learning_rate \r\n",
        "\t\t\r\n",
        "\t\tself.iterations = iterations \r\n",
        "\t\t\r\n",
        "\t\tself.l1_penality = l1_penality \r\n",
        "\t\t\r\n",
        "\t\tself.l2_penality = l2_penality \r\n",
        "\t\t\r\n",
        "\t# Function for model training \r\n",
        "\t\t\t\r\n",
        "\tdef fit( self, X, Y ) : \r\n",
        "\t\t\r\n",
        "\t\t# no_of_training_examples, no_of_features \r\n",
        "\t\t\r\n",
        "\t\tself.m, self.n = X.shape \r\n",
        "\t\t\r\n",
        "\t\t# weight initialization \r\n",
        "\t\t\r\n",
        "\t\tself.W = np.zeros( self.n ) \r\n",
        "\t\t\r\n",
        "\t\tself.b = 0\r\n",
        "\t\t\r\n",
        "\t\tself.X = X \r\n",
        "\t\t\r\n",
        "\t\tself.Y = Y \r\n",
        "\t\t\r\n",
        "\t\t# gradient descent learning \r\n",
        "\t\t\t\t\r\n",
        "\t\tfor i in range( self.iterations ) : \r\n",
        "\t\t\t\r\n",
        "\t\t\tself.update_weights() \r\n",
        "\t\t\t\r\n",
        "\t\treturn self\r\n",
        "\t\r\n",
        "\t# Helper function to update weights in gradient descent \r\n",
        "\t\r\n",
        "\tdef update_weights( self ) : \r\n",
        "\t\t\t\r\n",
        "\t\tY_pred = self.predict( self.X ) \r\n",
        "\t\t\r\n",
        "\t\t# calculate gradients \r\n",
        "\t\t\r\n",
        "\t\tdW = np.zeros( self.n ) \r\n",
        "\t\t\r\n",
        "\t\tfor j in range( self.n ) : \r\n",
        "\t\t\t\r\n",
        "\t\t\tif self.W[j] > 0 : \r\n",
        "\t\t\t\t\r\n",
        "\t\t\t\tdW[j] = ( - ( 2 * ( self.X[:,j] ).dot( self.Y - Y_pred ) ) +\r\n",
        "\t\t\t\t\t\t\r\n",
        "\t\t\t\t\t\tself.l1_penality + 2 * self.l2_penality * self.W[j] ) / self.m \r\n",
        "\t\t\r\n",
        "\t\t\telse : \r\n",
        "\t\t\t\t\r\n",
        "\t\t\t\tdW[j] = ( - ( 2 * ( self.X[:,j] ).dot( self.Y - Y_pred ) ) \r\n",
        "\t\t\t\t\t\t\r\n",
        "\t\t\t\t\t\t- self.l1_penality + 2 * self.l2_penality * self.W[j] ) / self.m \r\n",
        "\r\n",
        "\t\r\n",
        "\t\tdb = - 2 * np.sum( self.Y - Y_pred ) / self.m \r\n",
        "\t\t\r\n",
        "\t\t# update weights \r\n",
        "\t\r\n",
        "\t\tself.W = self.W - self.learning_rate * dW \r\n",
        "\t\r\n",
        "\t\tself.b = self.b - self.learning_rate * db \r\n",
        "\t\t\r\n",
        "\t\treturn self\r\n",
        "\t\r\n",
        "\t# Hypothetical function h( x ) \r\n",
        "\t\r\n",
        "\tdef predict( self, X ) : \r\n",
        "\t\r\n",
        "\t\treturn X.dot( self.W ) + self.b "
      ],
      "execution_count": 52,
      "outputs": []
    },
    {
      "cell_type": "code",
      "metadata": {
        "colab": {
          "base_uri": "https://localhost:8080/"
        },
        "id": "KreuPj_Dfpaw",
        "outputId": "fbf821fb-89fd-4c10-9179-184858d89499"
      },
      "source": [
        "def main() : \r\n",
        "\t\r\n",
        "\t# Importing dataset \r\n",
        "\t\r\n",
        "\tdf = pd.read_csv( \"Train.csv\" ) \r\n",
        " \r\n",
        "\r\n",
        "\tX = df.iloc[:,:-1].values \r\n",
        "\r\n",
        "\tY = df.iloc[:,-1].values \r\n",
        "\t\r\n",
        "\t# Splitting dataset into train and test set \r\n",
        "\r\n",
        "\tX_train, X_test, Y_train, Y_test = train_test_split( X, Y, \r\n",
        "\t\t\t\t\t\t\t\t\t\t\t\t\t\t\r\n",
        "\t\t\t\t\t\t\t\t\t\t\ttest_size = 1/3, random_state = 0 ) \r\n",
        "\t\r\n",
        "\t# Model training \r\n",
        "\t\r\n",
        "\tmodel = ElasticRegression( iterations = 2000, \r\n",
        "\t\t\t\t\t\t\t\t\r\n",
        "\t\t\t\t\tlearning_rate = 0.1, l1_penality = 0.5, l2_penality = 0.5 ) \r\n",
        "\r\n",
        "\tmodel.fit( X_train, Y_train ) \r\n",
        "\t\r\n",
        "\t# Prediction on test set \r\n",
        "\r\n",
        "\tY_pred = model.predict( X_test ) \r\n",
        "\t\r\n",
        "\tprint( \"Predicted values \", np.round( Y_pred, 2 ) ) \r\n",
        "\t\r\n",
        "\tprint( \"Real values\t \", Y_test ) \r\n",
        "\t\r\n",
        "\tprint( \"Trained W\t \", round( model.W[0], 2 ) ) \r\n",
        "\t\r\n",
        "\tprint( \"Trained b\t \", round( model.b, 2 ) ) \r\n",
        "  \r\n",
        "\r\n",
        "if __name__ == \"__main__\" : \r\n",
        "\t\r\n",
        "\tmain()\r\n"
      ],
      "execution_count": 58,
      "outputs": [
        {
          "output_type": "stream",
          "text": [
            "Predicted values  [ 388.82 1197.14  388.82 ...  388.82 1214.04  388.82]\n",
            "Real values\t  [1629.49  1858.31    65.153 ...  548.169 1282.866   20.144]\n",
            "Trained W\t  808.32\n",
            "Trained b\t  388.82\n"
          ],
          "name": "stdout"
        }
      ]
    },
    {
      "cell_type": "code",
      "metadata": {
        "id": "qYoNG_hCfpdy"
      },
      "source": [
        ""
      ],
      "execution_count": null,
      "outputs": []
    },
    {
      "cell_type": "code",
      "metadata": {
        "id": "ulJwhnXQfpg7"
      },
      "source": [
        ""
      ],
      "execution_count": null,
      "outputs": []
    },
    {
      "cell_type": "code",
      "metadata": {
        "id": "ZDT-eXwWfpkG"
      },
      "source": [
        ""
      ],
      "execution_count": null,
      "outputs": []
    },
    {
      "cell_type": "code",
      "metadata": {
        "id": "ksQrtqhzfpnS"
      },
      "source": [
        ""
      ],
      "execution_count": null,
      "outputs": []
    },
    {
      "cell_type": "code",
      "metadata": {
        "id": "LNIXQ2pmfpqr"
      },
      "source": [
        ""
      ],
      "execution_count": null,
      "outputs": []
    },
    {
      "cell_type": "code",
      "metadata": {
        "id": "0IL9Rd_yfpuG"
      },
      "source": [
        ""
      ],
      "execution_count": null,
      "outputs": []
    },
    {
      "cell_type": "code",
      "metadata": {
        "id": "17UoPw8ufpxi"
      },
      "source": [
        ""
      ],
      "execution_count": null,
      "outputs": []
    },
    {
      "cell_type": "code",
      "metadata": {
        "id": "7UAG9AjPfp01"
      },
      "source": [
        ""
      ],
      "execution_count": null,
      "outputs": []
    },
    {
      "cell_type": "code",
      "metadata": {
        "id": "HTx860bQfp37"
      },
      "source": [
        ""
      ],
      "execution_count": null,
      "outputs": []
    },
    {
      "cell_type": "code",
      "metadata": {
        "id": "R5t6FG1Afp7I"
      },
      "source": [
        ""
      ],
      "execution_count": null,
      "outputs": []
    }
  ]
}